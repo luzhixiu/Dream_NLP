{
 "cells": [
  {
   "cell_type": "code",
   "execution_count": 1,
   "id": "d80b56bd-6130-4ba6-9f5b-7020937b64ad",
   "metadata": {},
   "outputs": [],
   "source": [
    "import pandas as pd"
   ]
  },
  {
   "cell_type": "code",
   "execution_count": 2,
   "id": "c891a81f-0219-49a9-8111-985c3b6c0d07",
   "metadata": {},
   "outputs": [],
   "source": [
    "trainFile='train_sequences.txt'\n",
    "\n",
    "df=pd.read_csv(trainFile,delimiter='\\t')"
   ]
  },
  {
   "cell_type": "markdown",
   "id": "54b12e77-90cf-494d-9944-e79f606c885c",
   "metadata": {},
   "source": [
    "Appears that the head and tail sequences are mostly same for this dataset, we can remove these sequences that are uninformative,"
   ]
  },
  {
   "cell_type": "code",
   "execution_count": 3,
   "id": "45f22b42-193b-443f-8da2-8cd15e074d63",
   "metadata": {},
   "outputs": [],
   "source": [
    "df.columns=['Sequence','Exp']"
   ]
  },
  {
   "cell_type": "code",
   "execution_count": 4,
   "id": "919a36a3-d200-41e7-baeb-da857e01da5e",
   "metadata": {},
   "outputs": [],
   "source": [
    "sequenceList=list(df['Sequence'])"
   ]
  },
  {
   "cell_type": "code",
   "execution_count": 5,
   "id": "0cd986a1-c911-4392-9e88-82164b88b3da",
   "metadata": {},
   "outputs": [
    {
     "name": "stdout",
     "output_type": "stream",
     "text": [
      "5\n",
      "7.419215501055977e-07\n"
     ]
    }
   ],
   "source": [
    "headSet=set()\n",
    "for sequence in sequenceList:\n",
    "    headSet.add(sequence[:18])\n",
    "\n",
    "print(len(headSet))\n",
    "print(len(headSet)/(len(df)))\n"
   ]
  },
  {
   "cell_type": "code",
   "execution_count": null,
   "id": "15f1ebfa-236f-426b-8be9-803ba100544d",
   "metadata": {},
   "outputs": [],
   "source": []
  },
  {
   "cell_type": "code",
   "execution_count": 6,
   "id": "65018869-35ec-4cd3-abfa-f2e5a7102a47",
   "metadata": {},
   "outputs": [],
   "source": [
    "tailSet=set()\n",
    "for sequence in sequenceList:\n",
    "    tailSet.add(sequence[-15:])"
   ]
  },
  {
   "cell_type": "code",
   "execution_count": 7,
   "id": "c3dd3afa-f16a-457d-9788-73ee1e3cab4c",
   "metadata": {},
   "outputs": [
    {
     "name": "stdout",
     "output_type": "stream",
     "text": [
      "25\n",
      "3.7096077505279886e-06\n"
     ]
    }
   ],
   "source": [
    "print(len(tailSet))\n",
    "print(len(tailSet)/(len(df)))"
   ]
  },
  {
   "cell_type": "code",
   "execution_count": 8,
   "id": "880cd2ce-e91b-4fac-b5b9-c8b03b530531",
   "metadata": {},
   "outputs": [],
   "source": [
    "df.head().to_csv(\"train_head.csv\")"
   ]
  },
  {
   "cell_type": "markdown",
   "id": "745edef9-26ec-457d-8271-545448611375",
   "metadata": {},
   "source": [
    "Now we check if there are duplicates of sequences in the training file, it appears there is no duplicate"
   ]
  },
  {
   "cell_type": "code",
   "execution_count": 9,
   "id": "fe7903d8-19b5-4bdc-9ada-d68d38739044",
   "metadata": {},
   "outputs": [
    {
     "ename": "KeyError",
     "evalue": "'raw_seq'",
     "output_type": "error",
     "traceback": [
      "\u001b[0;31m---------------------------------------------------------------------------\u001b[0m",
      "\u001b[0;31mKeyError\u001b[0m                                  Traceback (most recent call last)",
      "File \u001b[0;32m~/.local/lib/python3.10/site-packages/pandas/core/indexes/base.py:3621\u001b[0m, in \u001b[0;36mIndex.get_loc\u001b[0;34m(self, key, method, tolerance)\u001b[0m\n\u001b[1;32m   3620\u001b[0m \u001b[38;5;28;01mtry\u001b[39;00m:\n\u001b[0;32m-> 3621\u001b[0m     \u001b[38;5;28;01mreturn\u001b[39;00m \u001b[38;5;28;43mself\u001b[39;49m\u001b[38;5;241;43m.\u001b[39;49m\u001b[43m_engine\u001b[49m\u001b[38;5;241;43m.\u001b[39;49m\u001b[43mget_loc\u001b[49m\u001b[43m(\u001b[49m\u001b[43mcasted_key\u001b[49m\u001b[43m)\u001b[49m\n\u001b[1;32m   3622\u001b[0m \u001b[38;5;28;01mexcept\u001b[39;00m \u001b[38;5;167;01mKeyError\u001b[39;00m \u001b[38;5;28;01mas\u001b[39;00m err:\n",
      "File \u001b[0;32m~/.local/lib/python3.10/site-packages/pandas/_libs/index.pyx:136\u001b[0m, in \u001b[0;36mpandas._libs.index.IndexEngine.get_loc\u001b[0;34m()\u001b[0m\n",
      "File \u001b[0;32m~/.local/lib/python3.10/site-packages/pandas/_libs/index.pyx:163\u001b[0m, in \u001b[0;36mpandas._libs.index.IndexEngine.get_loc\u001b[0;34m()\u001b[0m\n",
      "File \u001b[0;32mpandas/_libs/hashtable_class_helper.pxi:5198\u001b[0m, in \u001b[0;36mpandas._libs.hashtable.PyObjectHashTable.get_item\u001b[0;34m()\u001b[0m\n",
      "File \u001b[0;32mpandas/_libs/hashtable_class_helper.pxi:5206\u001b[0m, in \u001b[0;36mpandas._libs.hashtable.PyObjectHashTable.get_item\u001b[0;34m()\u001b[0m\n",
      "\u001b[0;31mKeyError\u001b[0m: 'raw_seq'",
      "\nThe above exception was the direct cause of the following exception:\n",
      "\u001b[0;31mKeyError\u001b[0m                                  Traceback (most recent call last)",
      "Input \u001b[0;32mIn [9]\u001b[0m, in \u001b[0;36m<cell line: 1>\u001b[0;34m()\u001b[0m\n\u001b[0;32m----> 1\u001b[0m \u001b[43mdf\u001b[49m\u001b[43m[\u001b[49m\u001b[38;5;124;43m'\u001b[39;49m\u001b[38;5;124;43mraw_seq\u001b[39;49m\u001b[38;5;124;43m'\u001b[39;49m\u001b[43m]\u001b[49m\u001b[38;5;241m.\u001b[39mdescribe()\n",
      "File \u001b[0;32m~/.local/lib/python3.10/site-packages/pandas/core/frame.py:3505\u001b[0m, in \u001b[0;36mDataFrame.__getitem__\u001b[0;34m(self, key)\u001b[0m\n\u001b[1;32m   3503\u001b[0m \u001b[38;5;28;01mif\u001b[39;00m \u001b[38;5;28mself\u001b[39m\u001b[38;5;241m.\u001b[39mcolumns\u001b[38;5;241m.\u001b[39mnlevels \u001b[38;5;241m>\u001b[39m \u001b[38;5;241m1\u001b[39m:\n\u001b[1;32m   3504\u001b[0m     \u001b[38;5;28;01mreturn\u001b[39;00m \u001b[38;5;28mself\u001b[39m\u001b[38;5;241m.\u001b[39m_getitem_multilevel(key)\n\u001b[0;32m-> 3505\u001b[0m indexer \u001b[38;5;241m=\u001b[39m \u001b[38;5;28;43mself\u001b[39;49m\u001b[38;5;241;43m.\u001b[39;49m\u001b[43mcolumns\u001b[49m\u001b[38;5;241;43m.\u001b[39;49m\u001b[43mget_loc\u001b[49m\u001b[43m(\u001b[49m\u001b[43mkey\u001b[49m\u001b[43m)\u001b[49m\n\u001b[1;32m   3506\u001b[0m \u001b[38;5;28;01mif\u001b[39;00m is_integer(indexer):\n\u001b[1;32m   3507\u001b[0m     indexer \u001b[38;5;241m=\u001b[39m [indexer]\n",
      "File \u001b[0;32m~/.local/lib/python3.10/site-packages/pandas/core/indexes/base.py:3623\u001b[0m, in \u001b[0;36mIndex.get_loc\u001b[0;34m(self, key, method, tolerance)\u001b[0m\n\u001b[1;32m   3621\u001b[0m     \u001b[38;5;28;01mreturn\u001b[39;00m \u001b[38;5;28mself\u001b[39m\u001b[38;5;241m.\u001b[39m_engine\u001b[38;5;241m.\u001b[39mget_loc(casted_key)\n\u001b[1;32m   3622\u001b[0m \u001b[38;5;28;01mexcept\u001b[39;00m \u001b[38;5;167;01mKeyError\u001b[39;00m \u001b[38;5;28;01mas\u001b[39;00m err:\n\u001b[0;32m-> 3623\u001b[0m     \u001b[38;5;28;01mraise\u001b[39;00m \u001b[38;5;167;01mKeyError\u001b[39;00m(key) \u001b[38;5;28;01mfrom\u001b[39;00m \u001b[38;5;21;01merr\u001b[39;00m\n\u001b[1;32m   3624\u001b[0m \u001b[38;5;28;01mexcept\u001b[39;00m \u001b[38;5;167;01mTypeError\u001b[39;00m:\n\u001b[1;32m   3625\u001b[0m     \u001b[38;5;66;03m# If we have a listlike key, _check_indexing_error will raise\u001b[39;00m\n\u001b[1;32m   3626\u001b[0m     \u001b[38;5;66;03m#  InvalidIndexError. Otherwise we fall through and re-raise\u001b[39;00m\n\u001b[1;32m   3627\u001b[0m     \u001b[38;5;66;03m#  the TypeError.\u001b[39;00m\n\u001b[1;32m   3628\u001b[0m     \u001b[38;5;28mself\u001b[39m\u001b[38;5;241m.\u001b[39m_check_indexing_error(key)\n",
      "\u001b[0;31mKeyError\u001b[0m: 'raw_seq'"
     ]
    }
   ],
   "source": []
  },
  {
   "cell_type": "code",
   "execution_count": null,
   "id": "3b586e2c-f5ba-4659-b87c-c3c26409a110",
   "metadata": {},
   "outputs": [],
   "source": []
  },
  {
   "cell_type": "code",
   "execution_count": null,
   "id": "1124bff6-8bdc-4537-9d09-48a9f195ff31",
   "metadata": {},
   "outputs": [],
   "source": [
    "df.to_csv(\"train_.csv\")"
   ]
  },
  {
   "cell_type": "code",
   "execution_count": null,
   "id": "a43fdc52-4319-4509-8cda-297d8205cadf",
   "metadata": {},
   "outputs": [],
   "source": [
    "df['GC_ratio']=[(seq.count('G')+seq.count('C'))/len(seq)  for seq in df['raw_seq']]"
   ]
  },
  {
   "cell_type": "code",
   "execution_count": null,
   "id": "72eef9de-b587-4c12-b905-0fd033c01ba9",
   "metadata": {},
   "outputs": [],
   "source": [
    "from scipy import stats\n",
    "print(stats.spearmanr(df['GC_ratio'],df['Exp']))\n",
    "\n",
    "print(stats.pearsonr(df['GC_ratio'],df['Exp']))"
   ]
  },
  {
   "cell_type": "code",
   "execution_count": null,
   "id": "a0b06d29-28af-4a8d-9aea-347776cdc76f",
   "metadata": {},
   "outputs": [],
   "source": []
  }
 ],
 "metadata": {
  "kernelspec": {
   "display_name": "Python 3 (ipykernel)",
   "language": "python",
   "name": "python3"
  },
  "language_info": {
   "codemirror_mode": {
    "name": "ipython",
    "version": 3
   },
   "file_extension": ".py",
   "mimetype": "text/x-python",
   "name": "python",
   "nbconvert_exporter": "python",
   "pygments_lexer": "ipython3",
   "version": "3.10.4"
  }
 },
 "nbformat": 4,
 "nbformat_minor": 5
}
