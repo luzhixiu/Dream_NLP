{
 "cells": [
  {
   "cell_type": "code",
   "execution_count": 1,
   "id": "ebfc8d3b-0f62-43cb-b681-3d9f645d47ab",
   "metadata": {},
   "outputs": [],
   "source": [
    "import pandas as pd"
   ]
  },
  {
   "cell_type": "code",
   "execution_count": null,
   "id": "06860eaf-c850-4d50-ba28-6073ed27d411",
   "metadata": {},
   "outputs": [],
   "source": []
  },
  {
   "cell_type": "code",
   "execution_count": null,
   "id": "81b20b22-b46d-4727-9032-62a253ee9eed",
   "metadata": {},
   "outputs": [],
   "source": []
  },
  {
   "cell_type": "code",
   "execution_count": null,
   "id": "b1d1dab1-a4bd-4f33-ad1d-98cd5e619c59",
   "metadata": {},
   "outputs": [],
   "source": []
  },
  {
   "cell_type": "code",
   "execution_count": null,
   "id": "40826199-ee5d-43bd-b688-55baef8899a1",
   "metadata": {},
   "outputs": [],
   "source": [
    "\n"
   ]
  },
  {
   "cell_type": "code",
   "execution_count": 2,
   "id": "cad0fafb-cf0f-4c60-903a-70924e42a05b",
   "metadata": {},
   "outputs": [],
   "source": [
    "from sklearn import preprocessing\n",
    "import pandas as pd\n",
    "from sklearn.preprocessing import minmax_scale\n",
    "\n"
   ]
  },
  {
   "cell_type": "code",
   "execution_count": null,
   "id": "270422cb",
   "metadata": {},
   "outputs": [],
   "source": []
  },
  {
   "cell_type": "markdown",
   "id": "1e0532fa-522c-4749-88d6-f36faebfb3b6",
   "metadata": {},
   "source": [
    "A middle set (randomly sample 20000 samples from the original data)"
   ]
  },
  {
   "cell_type": "code",
   "execution_count": null,
   "id": "c9223c96-4efb-40d2-932e-5a6374e24e74",
   "metadata": {},
   "outputs": [],
   "source": [
    "\n"
   ]
  },
  {
   "cell_type": "code",
   "execution_count": null,
   "id": "1d54e67f",
   "metadata": {},
   "outputs": [],
   "source": []
  },
  {
   "cell_type": "code",
   "execution_count": 3,
   "id": "72741c0d",
   "metadata": {},
   "outputs": [],
   "source": [
    "import matplotlib.pyplot as plt\n",
    "df=pd.read_csv(\"fine_tuned_prediction_15k_model_all_train.csv\")"
   ]
  },
  {
   "cell_type": "code",
   "execution_count": 16,
   "id": "45a68a93",
   "metadata": {},
   "outputs": [
    {
     "data": {
      "text/plain": [
       "([<matplotlib.axis.XTick at 0x7f0a02f81360>,\n",
       "  <matplotlib.axis.XTick at 0x7f0a02f81480>,\n",
       "  <matplotlib.axis.XTick at 0x7f0a02f9eb00>,\n",
       "  <matplotlib.axis.XTick at 0x7f0a02df2e60>,\n",
       "  <matplotlib.axis.XTick at 0x7f0a02df35b0>,\n",
       "  <matplotlib.axis.XTick at 0x7f0a02df3d00>,\n",
       "  <matplotlib.axis.XTick at 0x7f0a02df3850>,\n",
       "  <matplotlib.axis.XTick at 0x7f0a02e1c370>,\n",
       "  <matplotlib.axis.XTick at 0x7f0a02e1cac0>,\n",
       "  <matplotlib.axis.XTick at 0x7f0a02e1d210>,\n",
       "  <matplotlib.axis.XTick at 0x7f0a02e1d960>,\n",
       "  <matplotlib.axis.XTick at 0x7f0a02e1e0b0>,\n",
       "  <matplotlib.axis.XTick at 0x7f0a02df2e90>,\n",
       "  <matplotlib.axis.XTick at 0x7f0a02e1dbd0>,\n",
       "  <matplotlib.axis.XTick at 0x7f0a02e1c820>,\n",
       "  <matplotlib.axis.XTick at 0x7f0a02e1eda0>,\n",
       "  <matplotlib.axis.XTick at 0x7f0a02e1f4f0>,\n",
       "  <matplotlib.axis.XTick at 0x7f0a02e1fc40>],\n",
       " [Text(0, 0, ''),\n",
       "  Text(0, 0, ''),\n",
       "  Text(0, 0, ''),\n",
       "  Text(0, 0, ''),\n",
       "  Text(0, 0, ''),\n",
       "  Text(0, 0, ''),\n",
       "  Text(0, 0, ''),\n",
       "  Text(0, 0, ''),\n",
       "  Text(0, 0, ''),\n",
       "  Text(0, 0, ''),\n",
       "  Text(0, 0, ''),\n",
       "  Text(0, 0, ''),\n",
       "  Text(0, 0, ''),\n",
       "  Text(0, 0, ''),\n",
       "  Text(0, 0, ''),\n",
       "  Text(0, 0, ''),\n",
       "  Text(0, 0, ''),\n",
       "  Text(0, 0, '')])"
      ]
     },
     "execution_count": 16,
     "metadata": {},
     "output_type": "execute_result"
    },
    {
     "data": {
      "image/png": "[encoded data removed]",
      "text/plain": [
       "<Figure size 432x288 with 1 Axes>"
      ]
     },
     "metadata": {
      "needs_background": "light"
     },
     "output_type": "display_data"
    }
   ],
   "source": [
    "import matplotlib.pyplot as plt\n",
    "df['Exp'].hist(bins=range(0,18))\n",
    "plt.xticks(range(0,18))"
   ]
  },
  {
   "cell_type": "code",
   "execution_count": 6,
   "id": "a6cfbd30",
   "metadata": {},
   "outputs": [],
   "source": [
    "df_sample_bin18_15k=pd.DataFrame()"
   ]
  },
  {
   "cell_type": "code",
   "execution_count": 23,
   "id": "1fedd255",
   "metadata": {},
   "outputs": [
    {
     "name": "stdout",
     "output_type": "stream",
     "text": [
      "0 1\n",
      "1877\n",
      "median 0.0801017981840825\n",
      "count    1877.000000\n",
      "mean        0.169530\n",
      "std         0.213873\n",
      "min         0.000387\n",
      "25%         0.029599\n",
      "50%         0.080102\n",
      "75%         0.220420\n",
      "max         0.997579\n",
      "Name: Exp, dtype: float64\n"
     ]
    },
    {
     "name": "stderr",
     "output_type": "stream",
     "text": [
      "/tmp/ipykernel_128041/2862939557.py:18: FutureWarning: The frame.append method is deprecated and will be removed from pandas in a future version. Use pandas.concat instead.\n",
      "  df_sample_bin18_15k=df_sample_bin18_15k.append(df_high_low)\n"
     ]
    },
    {
     "name": "stdout",
     "output_type": "stream",
     "text": [
      "1 2\n",
      "3264\n",
      "median 1.14576764699893\n",
      "count    3264.000000\n",
      "mean        1.249812\n",
      "std         0.259748\n",
      "min         1.000367\n",
      "25%         1.047991\n",
      "50%         1.145768\n",
      "75%         1.392044\n",
      "max         1.997782\n",
      "Name: Exp, dtype: float64\n"
     ]
    },
    {
     "name": "stderr",
     "output_type": "stream",
     "text": [
      "/tmp/ipykernel_128041/2862939557.py:18: FutureWarning: The frame.append method is deprecated and will be removed from pandas in a future version. Use pandas.concat instead.\n",
      "  df_sample_bin18_15k=df_sample_bin18_15k.append(df_high_low)\n"
     ]
    },
    {
     "name": "stdout",
     "output_type": "stream",
     "text": [
      "2 3\n",
      "7149\n",
      "median 2.21182970028112\n",
      "count    7149.000000\n",
      "mean        2.308395\n",
      "std         0.275179\n",
      "min         2.000513\n",
      "25%         2.079743\n",
      "50%         2.211830\n",
      "75%         2.490101\n",
      "max         2.999659\n",
      "Name: Exp, dtype: float64\n"
     ]
    },
    {
     "name": "stderr",
     "output_type": "stream",
     "text": [
      "/tmp/ipykernel_128041/2862939557.py:18: FutureWarning: The frame.append method is deprecated and will be removed from pandas in a future version. Use pandas.concat instead.\n",
      "  df_sample_bin18_15k=df_sample_bin18_15k.append(df_high_low)\n"
     ]
    },
    {
     "name": "stdout",
     "output_type": "stream",
     "text": [
      "3 4\n",
      "13925\n",
      "median 3.31417760349718\n",
      "count    13925.000000\n",
      "mean         3.375130\n",
      "std          0.282391\n",
      "min          3.000097\n",
      "25%          3.127647\n",
      "50%          3.314178\n",
      "75%          3.587690\n",
      "max          3.999871\n",
      "Name: Exp, dtype: float64\n"
     ]
    },
    {
     "name": "stderr",
     "output_type": "stream",
     "text": [
      "/tmp/ipykernel_128041/2862939557.py:18: FutureWarning: The frame.append method is deprecated and will be removed from pandas in a future version. Use pandas.concat instead.\n",
      "  df_sample_bin18_15k=df_sample_bin18_15k.append(df_high_low)\n"
     ]
    },
    {
     "name": "stdout",
     "output_type": "stream",
     "text": [
      "4 5\n",
      "26241\n",
      "median 4.38435300854996\n",
      "count    26241.000000\n",
      "mean         4.423740\n",
      "std          0.285930\n",
      "min          4.000109\n",
      "25%          4.169467\n",
      "50%          4.384353\n",
      "75%          4.655694\n",
      "max          4.999950\n",
      "Name: Exp, dtype: float64\n"
     ]
    },
    {
     "name": "stderr",
     "output_type": "stream",
     "text": [
      "/tmp/ipykernel_128041/2862939557.py:20: FutureWarning: The frame.append method is deprecated and will be removed from pandas in a future version. Use pandas.concat instead.\n",
      "  df_sample_bin18_15k=df_sample_bin18_15k.append(df_high_low.sample(15000))\n"
     ]
    },
    {
     "name": "stdout",
     "output_type": "stream",
     "text": [
      "5 6\n",
      "46619\n",
      "median 5.41459107921767\n",
      "count    46619.000000\n",
      "mean         5.443882\n",
      "std          0.282820\n",
      "min          5.000055\n",
      "25%          5.196182\n",
      "50%          5.414591\n",
      "75%          5.676912\n",
      "max          5.999908\n",
      "Name: Exp, dtype: float64\n"
     ]
    },
    {
     "name": "stderr",
     "output_type": "stream",
     "text": [
      "/tmp/ipykernel_128041/2862939557.py:20: FutureWarning: The frame.append method is deprecated and will be removed from pandas in a future version. Use pandas.concat instead.\n",
      "  df_sample_bin18_15k=df_sample_bin18_15k.append(df_high_low.sample(15000))\n"
     ]
    },
    {
     "name": "stdout",
     "output_type": "stream",
     "text": [
      "6 7\n",
      "86554\n",
      "median 6.44107005032451\n",
      "count    86554.000000\n",
      "mean         6.464833\n",
      "std          0.279927\n",
      "min          6.000021\n",
      "25%          6.220462\n",
      "50%          6.441070\n",
      "75%          6.693872\n",
      "max          6.999985\n",
      "Name: Exp, dtype: float64\n"
     ]
    },
    {
     "name": "stderr",
     "output_type": "stream",
     "text": [
      "/tmp/ipykernel_128041/2862939557.py:20: FutureWarning: The frame.append method is deprecated and will be removed from pandas in a future version. Use pandas.concat instead.\n",
      "  df_sample_bin18_15k=df_sample_bin18_15k.append(df_high_low.sample(15000))\n"
     ]
    },
    {
     "name": "stdout",
     "output_type": "stream",
     "text": [
      "7 8\n",
      "173801\n",
      "median 7.49046473960909\n",
      "count    173801.000000\n",
      "mean          7.494130\n",
      "std           0.276398\n",
      "min           7.000067\n",
      "25%           7.258354\n",
      "50%           7.490465\n",
      "75%           7.726856\n",
      "max           7.999996\n",
      "Name: Exp, dtype: float64\n"
     ]
    },
    {
     "name": "stderr",
     "output_type": "stream",
     "text": [
      "/tmp/ipykernel_128041/2862939557.py:20: FutureWarning: The frame.append method is deprecated and will be removed from pandas in a future version. Use pandas.concat instead.\n",
      "  df_sample_bin18_15k=df_sample_bin18_15k.append(df_high_low.sample(15000))\n"
     ]
    },
    {
     "name": "stdout",
     "output_type": "stream",
     "text": [
      "8 9\n",
      "351155\n",
      "median 8.51283874000955\n",
      "count    351155.000000\n",
      "mean          8.509681\n",
      "std           0.274119\n",
      "min           8.000027\n",
      "25%           8.279590\n",
      "50%           8.512839\n",
      "75%           8.750230\n",
      "max           8.999997\n",
      "Name: Exp, dtype: float64\n"
     ]
    },
    {
     "name": "stderr",
     "output_type": "stream",
     "text": [
      "/tmp/ipykernel_128041/2862939557.py:20: FutureWarning: The frame.append method is deprecated and will be removed from pandas in a future version. Use pandas.concat instead.\n",
      "  df_sample_bin18_15k=df_sample_bin18_15k.append(df_high_low.sample(15000))\n"
     ]
    },
    {
     "name": "stdout",
     "output_type": "stream",
     "text": [
      "9 10\n",
      "511184\n",
      "median 9.489982066767606\n",
      "count    511184.000000\n",
      "mean          9.492466\n",
      "std           0.275768\n",
      "min           9.000000\n",
      "25%           9.249634\n",
      "50%           9.489982\n",
      "75%           9.721041\n",
      "max           9.999999\n",
      "Name: Exp, dtype: float64\n"
     ]
    },
    {
     "name": "stderr",
     "output_type": "stream",
     "text": [
      "/tmp/ipykernel_128041/2862939557.py:20: FutureWarning: The frame.append method is deprecated and will be removed from pandas in a future version. Use pandas.concat instead.\n",
      "  df_sample_bin18_15k=df_sample_bin18_15k.append(df_high_low.sample(15000))\n"
     ]
    },
    {
     "name": "stdout",
     "output_type": "stream",
     "text": [
      "10 11\n",
      "542984\n",
      "median 10.4631049626387\n",
      "count    542984.000000\n",
      "mean         10.461646\n",
      "std           0.271902\n",
      "min          10.000012\n",
      "25%          10.223313\n",
      "50%          10.463105\n",
      "75%          10.686398\n",
      "max          10.999989\n",
      "Name: Exp, dtype: float64\n"
     ]
    },
    {
     "name": "stderr",
     "output_type": "stream",
     "text": [
      "/tmp/ipykernel_128041/2862939557.py:20: FutureWarning: The frame.append method is deprecated and will be removed from pandas in a future version. Use pandas.concat instead.\n",
      "  df_sample_bin18_15k=df_sample_bin18_15k.append(df_high_low.sample(15000))\n"
     ]
    },
    {
     "name": "stdout",
     "output_type": "stream",
     "text": [
      "11 12\n",
      "341055\n",
      "median 11.5741851276938\n",
      "count    341055.000000\n",
      "mean         11.545059\n",
      "std           0.296564\n",
      "min          11.000026\n",
      "25%          11.285210\n",
      "50%          11.574185\n",
      "75%          11.811588\n",
      "max          11.999986\n",
      "Name: Exp, dtype: float64\n",
      "12 13\n",
      "274112\n",
      "median 12.5737864173715\n",
      "count    274112.000000\n",
      "mean         12.543452\n",
      "std           0.298082\n",
      "min          12.000021\n",
      "25%          12.280720\n",
      "50%          12.573786\n",
      "75%          12.808663\n",
      "max          12.999988\n",
      "Name: Exp, dtype: float64\n"
     ]
    },
    {
     "name": "stderr",
     "output_type": "stream",
     "text": [
      "/tmp/ipykernel_128041/2862939557.py:20: FutureWarning: The frame.append method is deprecated and will be removed from pandas in a future version. Use pandas.concat instead.\n",
      "  df_sample_bin18_15k=df_sample_bin18_15k.append(df_high_low.sample(15000))\n",
      "/tmp/ipykernel_128041/2862939557.py:20: FutureWarning: The frame.append method is deprecated and will be removed from pandas in a future version. Use pandas.concat instead.\n",
      "  df_sample_bin18_15k=df_sample_bin18_15k.append(df_high_low.sample(15000))\n"
     ]
    },
    {
     "name": "stdout",
     "output_type": "stream",
     "text": [
      "13 14\n",
      "227625\n",
      "median 13.5730166418405\n",
      "count    227625.000000\n",
      "mean         13.549305\n",
      "std           0.294318\n",
      "min          13.000009\n",
      "25%          13.296273\n",
      "50%          13.573017\n",
      "75%          13.814009\n",
      "max          13.999997\n",
      "Name: Exp, dtype: float64\n",
      "14 15\n",
      "168954\n",
      "median 14.6259014175986\n",
      "count    168954.000000\n",
      "mean         14.583626\n",
      "std           0.287072\n",
      "min          14.000018\n",
      "25%          14.350052\n",
      "50%          14.625901\n",
      "75%          14.839219\n",
      "max          14.999742\n",
      "Name: Exp, dtype: float64\n",
      "15 16\n",
      "66980\n",
      "median 15.72891212397085\n",
      "count    66980.000000\n",
      "mean        15.651871\n",
      "std          0.283326\n",
      "min         15.000027\n",
      "25%         15.447934\n",
      "50%         15.728912\n",
      "75%         15.898839\n",
      "max         15.999982\n",
      "Name: Exp, dtype: float64\n"
     ]
    },
    {
     "name": "stderr",
     "output_type": "stream",
     "text": [
      "/tmp/ipykernel_128041/2862939557.py:20: FutureWarning: The frame.append method is deprecated and will be removed from pandas in a future version. Use pandas.concat instead.\n",
      "  df_sample_bin18_15k=df_sample_bin18_15k.append(df_high_low.sample(15000))\n",
      "/tmp/ipykernel_128041/2862939557.py:20: FutureWarning: The frame.append method is deprecated and will be removed from pandas in a future version. Use pandas.concat instead.\n",
      "  df_sample_bin18_15k=df_sample_bin18_15k.append(df_high_low.sample(15000))\n",
      "/tmp/ipykernel_128041/2862939557.py:20: FutureWarning: The frame.append method is deprecated and will be removed from pandas in a future version. Use pandas.concat instead.\n",
      "  df_sample_bin18_15k=df_sample_bin18_15k.append(df_high_low.sample(15000))\n",
      "/tmp/ipykernel_128041/2862939557.py:20: FutureWarning: The frame.append method is deprecated and will be removed from pandas in a future version. Use pandas.concat instead.\n",
      "  df_sample_bin18_15k=df_sample_bin18_15k.append(df_high_low.sample(15000))\n"
     ]
    },
    {
     "name": "stdout",
     "output_type": "stream",
     "text": [
      "16 17\n",
      "17791\n",
      "median 16.8279555691945\n",
      "count    17791.000000\n",
      "mean        16.729205\n",
      "std          0.265476\n",
      "min         16.000928\n",
      "25%         16.583090\n",
      "50%         16.827956\n",
      "75%         16.941112\n",
      "max         16.999523\n",
      "Name: Exp, dtype: float64\n"
     ]
    }
   ],
   "source": [
    "import pandas as pd\n",
    "import numpy as np\n",
    "\n",
    "\n",
    "\n",
    "\n",
    "cnt=0\n",
    "for i in range(0,17):\n",
    "    low=i\n",
    "    high=i+1\n",
    "    df_low=df[df['Exp']>low]\n",
    "    df_high_low=df_low[df_low['Exp']<high]\n",
    "    print(low,high)\n",
    "    print(len(df_high_low))\n",
    "    print(\"median\", np.median(df_high_low['Exp']))\n",
    "    print(df_high_low['Exp'].describe())\n",
    "    if (len(df_high_low)<15000):\n",
    "        df_sample_bin18_15k=df_sample_bin18_15k.append(df_high_low)\n",
    "    else:\n",
    "        df_sample_bin18_15k=df_sample_bin18_15k.append(df_high_low.sample(15000))\n",
    "        \n",
    "    \n"
   ]
  },
  {
   "cell_type": "code",
   "execution_count": 13,
   "id": "222f902c",
   "metadata": {},
   "outputs": [
    {
     "data": {
      "text/plain": [
       "([<matplotlib.axis.XTick at 0x7f0a0308dea0>,\n",
       "  <matplotlib.axis.XTick at 0x7f0a0308dde0>,\n",
       "  <matplotlib.axis.XTick at 0x7f0a0308dd80>,\n",
       "  <matplotlib.axis.XTick at 0x7f0a02ec4b20>,\n",
       "  <matplotlib.axis.XTick at 0x7f0a02ec5270>,\n",
       "  <matplotlib.axis.XTick at 0x7f0a02ec59c0>,\n",
       "  <matplotlib.axis.XTick at 0x7f0a02ec5600>,\n",
       "  <matplotlib.axis.XTick at 0x7f0a02ec5ff0>,\n",
       "  <matplotlib.axis.XTick at 0x7f0a02ec6740>,\n",
       "  <matplotlib.axis.XTick at 0x7f0a02ec6e90>,\n",
       "  <matplotlib.axis.XTick at 0x7f0a02ec75e0>,\n",
       "  <matplotlib.axis.XTick at 0x7f0a02ec7d30>,\n",
       "  <matplotlib.axis.XTick at 0x7f0a02ec7ca0>,\n",
       "  <matplotlib.axis.XTick at 0x7f0a02ec6ef0>,\n",
       "  <matplotlib.axis.XTick at 0x7f0a02ed8460>,\n",
       "  <matplotlib.axis.XTick at 0x7f0a02ed8a60>,\n",
       "  <matplotlib.axis.XTick at 0x7f0a02ed91b0>,\n",
       "  <matplotlib.axis.XTick at 0x7f0a02ed9900>],\n",
       " [Text(0, 0, ''),\n",
       "  Text(0, 0, ''),\n",
       "  Text(0, 0, ''),\n",
       "  Text(0, 0, ''),\n",
       "  Text(0, 0, ''),\n",
       "  Text(0, 0, ''),\n",
       "  Text(0, 0, ''),\n",
       "  Text(0, 0, ''),\n",
       "  Text(0, 0, ''),\n",
       "  Text(0, 0, ''),\n",
       "  Text(0, 0, ''),\n",
       "  Text(0, 0, ''),\n",
       "  Text(0, 0, ''),\n",
       "  Text(0, 0, ''),\n",
       "  Text(0, 0, ''),\n",
       "  Text(0, 0, ''),\n",
       "  Text(0, 0, ''),\n",
       "  Text(0, 0, '')])"
      ]
     },
     "execution_count": 13,
     "metadata": {},
     "output_type": "execute_result"
    },
    {
     "data": {
      "image/png": "[encoded data removed]",
      "text/plain": [
       "<Figure size 432x288 with 1 Axes>"
      ]
     },
     "metadata": {
      "needs_background": "light"
     },
     "output_type": "display_data"
    }
   ],
   "source": []
  },
  {
   "cell_type": "code",
   "execution_count": null,
   "id": "c1027d1c",
   "metadata": {},
   "outputs": [],
   "source": [
    "df_sample_bin18_15k.columns=['Index','Seq','Pred','Exp','Residual']"
   ]
  },
  {
   "cell_type": "code",
   "execution_count": null,
   "id": "c97b6513",
   "metadata": {},
   "outputs": [],
   "source": [
    "df_sample_bin18_15k.to_csv(\"df_sample_bin18_15k.csv\")"
   ]
  },
  {
   "cell_type": "code",
   "execution_count": null,
   "id": "696721f9-e4a0-4428-b898-a3915a8a5133",
   "metadata": {},
   "outputs": [],
   "source": [
    "import pandas as pd\n",
    "df=pd.read_csv(\"full_train_prediction_r2_50.csv\")"
   ]
  },
  {
   "cell_type": "code",
   "execution_count": null,
   "id": "b7c63bd7-2a0a-4d3d-b3a4-11396267545e",
   "metadata": {},
   "outputs": [],
   "source": [
    "df['pred_error']=df['Predicted_Exp']-df['Actual_Exp']"
   ]
  },
  {
   "cell_type": "code",
   "execution_count": null,
   "id": "84b18280-2256-452d-b532-29f628fc8107",
   "metadata": {},
   "outputs": [],
   "source": [
    "df['pred_error'].plot.hist()"
   ]
  },
  {
   "cell_type": "code",
   "execution_count": null,
   "id": "64a0596d",
   "metadata": {},
   "outputs": [],
   "source": [
    "df_high_error=df[abs(df['pred_error'])>5]"
   ]
  },
  {
   "cell_type": "code",
   "execution_count": null,
   "id": "dcda9893-f407-44c0-b891-f83dace6744b",
   "metadata": {},
   "outputs": [],
   "source": [
    "import matplotlib.pyplot as plt\n",
    "import numpy as np\n",
    "\n",
    "\n",
    "# Make the plot\n",
    "plt.hexbin(df_high_error['pred_error'], df_high_error['Actual_Exp'], gridsize=(10,10),cmap=\"viridis\" )\n",
    "plt.colorbar()\n",
    "plt.xlabel(\"Pred_Error\")\n",
    "plt.ylabel(\"Actual\")\n",
    "plt.savefig(\"hex_r50_fulltrain.png\")\n",
    "plt.show()\n",
    "\n"
   ]
  },
  {
   "cell_type": "code",
   "execution_count": null,
   "id": "1dae955d-2c8c-450a-b0f3-cbd926306000",
   "metadata": {},
   "outputs": [],
   "source": [
    "df['scaled_exp'].plot.hist(bins=20)\n",
    "plt.figure()\n",
    "df_sampled['scaled_exp'].plot.hist(bins=20)"
   ]
  },
  {
   "cell_type": "code",
   "execution_count": null,
   "id": "f66fffb0-473f-4d8e-9482-1e6eb11f8978",
   "metadata": {},
   "outputs": [],
   "source": []
  },
  {
   "cell_type": "code",
   "execution_count": null,
   "id": "cfecd713-3bd7-4f2d-9268-d9c3fd8fdf03",
   "metadata": {},
   "outputs": [],
   "source": [
    "df_sampled.to_csv(\"50k_4bins_scaled_train.csv\",index=False)"
   ]
  },
  {
   "cell_type": "code",
   "execution_count": null,
   "id": "4801d037-7446-44af-981a-424b76f3ea9a",
   "metadata": {},
   "outputs": [],
   "source": []
  }
 ],
 "metadata": {
  "kernelspec": {
   "display_name": "Python 3 (ipykernel)",
   "language": "python",
   "name": "python3"
  },
  "language_info": {
   "codemirror_mode": {
    "name": "ipython",
    "version": 3
   },
   "file_extension": ".py",
   "mimetype": "text/x-python",
   "name": "python",
   "nbconvert_exporter": "python",
   "pygments_lexer": "ipython3",
   "version": "3.10.4"
  }
 },
 "nbformat": 4,
 "nbformat_minor": 5
}
