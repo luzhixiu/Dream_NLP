{
 "cells": [
  {
   "cell_type": "code",
   "execution_count": 1,
   "id": "d80b56bd-6130-4ba6-9f5b-7020937b64ad",
   "metadata": {},
   "outputs": [],
   "source": [
    "import pandas as pd"
   ]
  },
  {
   "cell_type": "code",
   "execution_count": 18,
   "id": "c891a81f-0219-49a9-8111-985c3b6c0d07",
   "metadata": {},
   "outputs": [],
   "source": [
    "trainFile='train_sequences.txt'\n",
    "\n",
    "df=pd.read_csv(trainFile,delimiter='\\t',header=None)"
   ]
  },
  {
   "cell_type": "markdown",
   "id": "54b12e77-90cf-494d-9944-e79f606c885c",
   "metadata": {},
   "source": [
    "Appears that the head and tail sequences are mostly same for this dataset, we can remove these sequences that are uninformative,"
   ]
  },
  {
   "cell_type": "code",
   "execution_count": 19,
   "id": "45f22b42-193b-443f-8da2-8cd15e074d63",
   "metadata": {},
   "outputs": [],
   "source": [
    "df.columns=['Sequence','Exp']"
   ]
  },
  {
   "cell_type": "code",
   "execution_count": 4,
   "id": "919a36a3-d200-41e7-baeb-da857e01da5e",
   "metadata": {},
   "outputs": [],
   "source": [
    "sequenceList=list(df['Sequence'])"
   ]
  },
  {
   "cell_type": "code",
   "execution_count": 5,
   "id": "0cd986a1-c911-4392-9e88-82164b88b3da",
   "metadata": {},
   "outputs": [
    {
     "name": "stdout",
     "output_type": "stream",
     "text": [
      "5\n",
      "7.419215501055977e-07\n"
     ]
    }
   ],
   "source": []
  },
  {
   "cell_type": "code",
   "execution_count": 6,
   "id": "65018869-35ec-4cd3-abfa-f2e5a7102a47",
   "metadata": {},
   "outputs": [],
   "source": []
  },
  {
   "cell_type": "code",
   "execution_count": 7,
   "id": "c3dd3afa-f16a-457d-9788-73ee1e3cab4c",
   "metadata": {},
   "outputs": [
    {
     "name": "stdout",
     "output_type": "stream",
     "text": [
      "25\n",
      "3.7096077505279886e-06\n"
     ]
    }
   ],
   "source": [
    "print(len(tailSet))\n",
    "print(len(tailSet)/(len(df)))"
   ]
  },
  {
   "cell_type": "code",
   "execution_count": 5,
   "id": "880cd2ce-e91b-4fac-b5b9-c8b03b530531",
   "metadata": {},
   "outputs": [
    {
     "data": {
      "text/html": [
       "<div>\n",
       "<style scoped>\n",
       "    .dataframe tbody tr th:only-of-type {\n",
       "        vertical-align: middle;\n",
       "    }\n",
       "\n",
       "    .dataframe tbody tr th {\n",
       "        vertical-align: top;\n",
       "    }\n",
       "\n",
       "    .dataframe thead th {\n",
       "        text-align: right;\n",
       "    }\n",
       "</style>\n",
       "<table border=\"1\" class=\"dataframe\">\n",
       "  <thead>\n",
       "    <tr style=\"text-align: right;\">\n",
       "      <th></th>\n",
       "      <th>Sequence</th>\n",
       "      <th>Exp</th>\n",
       "    </tr>\n",
       "  </thead>\n",
       "  <tbody>\n",
       "    <tr>\n",
       "      <th>0</th>\n",
       "      <td>TGCATTTTTTTCACATCTATGTTGCGTTAGAACGATATTGGAACAC...</td>\n",
       "      <td>6.0</td>\n",
       "    </tr>\n",
       "    <tr>\n",
       "      <th>1</th>\n",
       "      <td>TGCATTTTTTTCACATCTGTGAAGAATATCAGCTTTCAATCGTATT...</td>\n",
       "      <td>8.0</td>\n",
       "    </tr>\n",
       "    <tr>\n",
       "      <th>2</th>\n",
       "      <td>TGCATTTTTTTCACATCAATCCGAGATATCTGTTGATAAACTTACC...</td>\n",
       "      <td>9.0</td>\n",
       "    </tr>\n",
       "    <tr>\n",
       "      <th>3</th>\n",
       "      <td>TGCATTTTTTTCACATCAAGTTATCTGGTGTACGTTTTCTCGTATA...</td>\n",
       "      <td>12.0</td>\n",
       "    </tr>\n",
       "    <tr>\n",
       "      <th>4</th>\n",
       "      <td>TGCATTTTTTTCACATCCGACTACTGCATTTTGATCTTATAGATAA...</td>\n",
       "      <td>11.0</td>\n",
       "    </tr>\n",
       "  </tbody>\n",
       "</table>\n",
       "</div>"
      ],
      "text/plain": [
       "                                            Sequence   Exp\n",
       "0  TGCATTTTTTTCACATCTATGTTGCGTTAGAACGATATTGGAACAC...   6.0\n",
       "1  TGCATTTTTTTCACATCTGTGAAGAATATCAGCTTTCAATCGTATT...   8.0\n",
       "2  TGCATTTTTTTCACATCAATCCGAGATATCTGTTGATAAACTTACC...   9.0\n",
       "3  TGCATTTTTTTCACATCAAGTTATCTGGTGTACGTTTTCTCGTATA...  12.0\n",
       "4  TGCATTTTTTTCACATCCGACTACTGCATTTTGATCTTATAGATAA...  11.0"
      ]
     },
     "execution_count": 5,
     "metadata": {},
     "output_type": "execute_result"
    }
   ],
   "source": [
    "df.head()"
   ]
  },
  {
   "cell_type": "markdown",
   "id": "745edef9-26ec-457d-8271-545448611375",
   "metadata": {},
   "source": [
    "Now we check if there are duplicates of sequences in the training file, it appears there is no duplicate"
   ]
  },
  {
   "cell_type": "code",
   "execution_count": 9,
   "id": "1124bff6-8bdc-4537-9d09-48a9f195ff31",
   "metadata": {},
   "outputs": [],
   "source": [
    "df_sub=df.sample(n=10000)\n",
    "df_sub.to_csv(\"train_10000.csv\")"
   ]
  },
  {
   "cell_type": "code",
   "execution_count": 21,
   "id": "3b586e2c-f5ba-4659-b87c-c3c26409a110",
   "metadata": {},
   "outputs": [
    {
     "data": {
      "text/plain": [
       "<AxesSubplot:ylabel='Frequency'>"
      ]
     },
     "execution_count": 21,
     "metadata": {},
     "output_type": "execute_result"
    },
    {
     "data": {
      "image/png": "[encoded data removed]",
      "text/plain": [
       "<Figure size 432x288 with 1 Axes>"
      ]
     },
     "metadata": {
      "needs_background": "light"
     },
     "output_type": "display_data"
    }
   ],
   "source": [
    "\n",
    "df['Exp'].plot.hist(xticks=range(0,18),bins=18)\n",
    "\n"
   ]
  },
  {
   "cell_type": "code",
   "execution_count": 18,
   "id": "6e1f19e1-4d5d-41af-8186-39243eabe73c",
   "metadata": {},
   "outputs": [
    {
     "data": {
      "text/plain": [
       "0           6.000000\n",
       "1           8.000000\n",
       "2           9.000000\n",
       "3          12.000000\n",
       "4          11.000000\n",
       "             ...    \n",
       "6739252    11.000000\n",
       "6739253    14.000000\n",
       "6739254     5.223988\n",
       "6739255    12.000000\n",
       "6739256    10.463105\n",
       "Name: Exp, Length: 6739257, dtype: float64"
      ]
     },
     "execution_count": 18,
     "metadata": {},
     "output_type": "execute_result"
    }
   ],
   "source": [
    "df['Exp']"
   ]
  },
  {
   "cell_type": "code",
   "execution_count": 12,
   "id": "4f9bf407-8538-495f-828a-3b069af4b439",
   "metadata": {},
   "outputs": [
    {
     "name": "stdout",
     "output_type": "stream",
     "text": [
      "1048845\n"
     ]
    }
   ],
   "source": [
    "print(len(set(df['Exp'])))"
   ]
  },
  {
   "cell_type": "code",
   "execution_count": 6,
   "id": "4d39ae54-1ca3-49b8-a8fc-73df1eba4f2e",
   "metadata": {},
   "outputs": [],
   "source": [
    "bins_interval=[0,8,11,14,18]#define 4 bins in these intervals\n",
    "bins=len(bins_interval)-1\n",
    "df_sampled=pd.DataFrame()\n"
   ]
  },
  {
   "cell_type": "code",
   "execution_count": 7,
   "id": "6bac4af8-16dd-412e-845e-cd2ef7449a4b",
   "metadata": {},
   "outputs": [
    {
     "name": "stderr",
     "output_type": "stream",
     "text": [
      "/tmp/ipykernel_45861/874801196.py:10: FutureWarning: The frame.append method is deprecated and will be removed from pandas in a future version. Use pandas.concat instead.\n",
      "  df_sampled=df_sampled.append(df_filter_low_high)\n",
      "/tmp/ipykernel_45861/874801196.py:10: FutureWarning: The frame.append method is deprecated and will be removed from pandas in a future version. Use pandas.concat instead.\n",
      "  df_sampled=df_sampled.append(df_filter_low_high)\n",
      "/tmp/ipykernel_45861/874801196.py:10: FutureWarning: The frame.append method is deprecated and will be removed from pandas in a future version. Use pandas.concat instead.\n",
      "  df_sampled=df_sampled.append(df_filter_low_high)\n",
      "/tmp/ipykernel_45861/874801196.py:10: FutureWarning: The frame.append method is deprecated and will be removed from pandas in a future version. Use pandas.concat instead.\n",
      "  df_sampled=df_sampled.append(df_filter_low_high)\n"
     ]
    }
   ],
   "source": [
    "for i in range(bins):\n",
    "    low=bins_interval[i]\n",
    "    high=bins_interval[i+1]\n",
    "    df_filter_low=df[df['Exp'] > low]\n",
    "    df_filter_low_high=df_filter_low[df_filter_low[,header=None'Exp'] <= high]\n",
    "    #print(low,high)\n",
    "    #print(df_filter_low_high.head())\n",
    "    #print(len(df_filter_low_high))\n",
    "    df_filter_low_high=df_filter_low_high.sample(6000)\n",
    "    df_sampled=df_sampled.append(df_filter_low_high)"
   ]
  },
  {
   "cell_type": "code",
   "execution_count": 8,
   "id": "d2ffb546-7800-4512-8039-34605a8653fb",
   "metadata": {},
   "outputs": [],
   "source": [
    "from sklearn.utils import shuffle\n",
    "\n",
    "df_sampled = shuffle(df_sampled)"
   ]
  },
  {
   "cell_type": "code",
   "execution_count": 22,
   "id": "9dc4dc33-940e-4b21-8021-498b3ff1e4fd",
   "metadata": {},
   "outputs": [
    {
     "data": {
      "text/html": [
       "<div>\n",
       "<style scoped>\n",
       "    .dataframe tbody tr th:only-of-type {\n",
       "        vertical-align: middle;\n",
       "    }\n",
       "\n",
       "    .dataframe tbody tr th {\n",
       "        vertical-align: top;\n",
       "    }\n",
       "\n",
       "    .dataframe thead th {\n",
       "        text-align: right;\n",
       "    }\n",
       "</style>\n",
       "<table border=\"1\" class=\"dataframe\">\n",
       "  <thead>\n",
       "    <tr style=\"text-align: right;\">\n",
       "      <th></th>\n",
       "      <th>Sequence</th>\n",
       "      <th>Exp</th>\n",
       "    </tr>\n",
       "  </thead>\n",
       "  <tbody>\n",
       "    <tr>\n",
       "      <th>0</th>\n",
       "      <td>TGCATTTTTTTCACATCTCTTTGCCACGGGGTGAAGGATAGGATGG...</td>\n",
       "      <td>11.0</td>\n",
       "    </tr>\n",
       "    <tr>\n",
       "      <th>1</th>\n",
       "      <td>TGCATTTTTTTCACATCTATGTTGCGTTAGAACGATATTGGAACAC...</td>\n",
       "      <td>6.0</td>\n",
       "    </tr>\n",
       "    <tr>\n",
       "      <th>2</th>\n",
       "      <td>TGCATTTTTTTCACATCTGTGAAGAATATCAGCTTTCAATCGTATT...</td>\n",
       "      <td>8.0</td>\n",
       "    </tr>\n",
       "    <tr>\n",
       "      <th>3</th>\n",
       "      <td>TGCATTTTTTTCACATCAATCCGAGATATCTGTTGATAAACTTACC...</td>\n",
       "      <td>9.0</td>\n",
       "    </tr>\n",
       "    <tr>\n",
       "      <th>4</th>\n",
       "      <td>TGCATTTTTTTCACATCAAGTTATCTGGTGTACGTTTTCTCGTATA...</td>\n",
       "      <td>12.0</td>\n",
       "    </tr>\n",
       "  </tbody>\n",
       "</table>\n",
       "</div>"
      ],
      "text/plain": [
       "                                            Sequence   Exp\n",
       "0  TGCATTTTTTTCACATCTCTTTGCCACGGGGTGAAGGATAGGATGG...  11.0\n",
       "1  TGCATTTTTTTCACATCTATGTTGCGTTAGAACGATATTGGAACAC...   6.0\n",
       "2  TGCATTTTTTTCACATCTGTGAAGAATATCAGCTTTCAATCGTATT...   8.0\n",
       "3  TGCATTTTTTTCACATCAATCCGAGATATCTGTTGATAAACTTACC...   9.0\n",
       "4  TGCATTTTTTTCACATCAAGTTATCTGGTGTACGTTTTCTCGTATA...  12.0"
      ]
     },
     "execution_count": 22,
     "metadata": {},
     "output_type": "execute_result"
    }
   ],
   "source": [
    "df.head()"
   ]
  },
  {
   "cell_type": "code",
   "execution_count": 21,
   "id": "72eef9de-b587-4c12-b905-0fd033c01ba9",
   "metadata": {},
   "outputs": [],
   "source": [
    "\n",
    "df.to_csv(\"train_all_untailored_seq.csv\",index=False)"
   ]
  },
  {
   "cell_type": "code",
   "execution_count": 10,
   "id": "a0b06d29-28af-4a8d-9aea-347776cdc76f",
   "metadata": {},
   "outputs": [],
   "source": [
    "testFile='test_sequences.txt'\n",
    "df=pd.read_csv(testFile,delimiter='\\t',header=None)\n",
    "df.columns=['Sequence','Exp']\n",
    "df=df.fillna(0)\n",
    "df.to_csv('test.csv',index=False)"
   ]
  },
  {
   "cell_type": "code",
   "execution_count": 89,
   "id": "0e304b26-55dc-4c50-8743-3b613bf2c10a",
   "metadata": {},
   "outputs": [
    {
     "data": {
      "text/plain": [
       "71103"
      ]
     },
     "execution_count": 89,
     "metadata": {},
     "output_type": "execute_result"
    }
   ],
   "source": [
    "len(df)"
   ]
  },
  {
   "cell_type": "code",
   "execution_count": null,
   "id": "64079202-801d-4d63-b53d-1321813a228a",
   "metadata": {},
   "outputs": [],
   "source": []
  }
 ],
 "metadata": {
  "kernelspec": {
   "display_name": "Python 3 (ipykernel)",
   "language": "python",
   "name": "python3"
  },
  "language_info": {
   "codemirror_mode": {
    "name": "ipython",
    "version": 3
   },
   "file_extension": ".py",
   "mimetype": "text/x-python",
   "name": "python",
   "nbconvert_exporter": "python",
   "pygments_lexer": "ipython3",
   "version": "3.10.4"
  }
 },
 "nbformat": 4,
 "nbformat_minor": 5
}
